{
  "nbformat": 4,
  "nbformat_minor": 0,
  "metadata": {
    "colab": {
      "provenance": [],
      "authorship_tag": "ABX9TyOKBiL3M4+OlhL1JYlJAfJp",
      "include_colab_link": true
    },
    "kernelspec": {
      "name": "python3",
      "display_name": "Python 3"
    },
    "language_info": {
      "name": "python"
    }
  },
  "cells": [
    {
      "cell_type": "markdown",
      "metadata": {
        "id": "view-in-github",
        "colab_type": "text"
      },
      "source": [
        "<a href=\"https://colab.research.google.com/github/revoberliana/revoberliana-web-scraping-assignment/blob/main/revoberliana_web_scrapping.ipynb\" target=\"_parent\"><img src=\"https://colab.research.google.com/assets/colab-badge.svg\" alt=\"Open In Colab\"/></a>"
      ]
    },
    {
      "cell_type": "code",
      "execution_count": null,
      "metadata": {
        "colab": {
          "base_uri": "https://localhost:8080/"
        },
        "id": "rjXLV_sT2XMX",
        "outputId": "6c395692-53eb-4d2e-c996-da0791147e9b"
      },
      "outputs": [
        {
          "output_type": "stream",
          "name": "stdout",
          "text": [
            "Collecting selenium\n",
            "  Downloading selenium-4.26.1-py3-none-any.whl.metadata (7.1 kB)\n",
            "Requirement already satisfied: urllib3<3,>=1.26 in /usr/local/lib/python3.10/dist-packages (from urllib3[socks]<3,>=1.26->selenium) (2.2.3)\n",
            "Collecting trio~=0.17 (from selenium)\n",
            "  Downloading trio-0.27.0-py3-none-any.whl.metadata (8.6 kB)\n",
            "Collecting trio-websocket~=0.9 (from selenium)\n",
            "  Downloading trio_websocket-0.11.1-py3-none-any.whl.metadata (4.7 kB)\n",
            "Requirement already satisfied: certifi>=2021.10.8 in /usr/local/lib/python3.10/dist-packages (from selenium) (2024.8.30)\n",
            "Requirement already satisfied: typing_extensions~=4.9 in /usr/local/lib/python3.10/dist-packages (from selenium) (4.12.2)\n",
            "Requirement already satisfied: websocket-client~=1.8 in /usr/local/lib/python3.10/dist-packages (from selenium) (1.8.0)\n",
            "Requirement already satisfied: attrs>=23.2.0 in /usr/local/lib/python3.10/dist-packages (from trio~=0.17->selenium) (24.2.0)\n",
            "Collecting sortedcontainers (from trio~=0.17->selenium)\n",
            "  Downloading sortedcontainers-2.4.0-py2.py3-none-any.whl.metadata (10 kB)\n",
            "Requirement already satisfied: idna in /usr/local/lib/python3.10/dist-packages (from trio~=0.17->selenium) (3.10)\n",
            "Collecting outcome (from trio~=0.17->selenium)\n",
            "  Downloading outcome-1.3.0.post0-py2.py3-none-any.whl.metadata (2.6 kB)\n",
            "Requirement already satisfied: sniffio>=1.3.0 in /usr/local/lib/python3.10/dist-packages (from trio~=0.17->selenium) (1.3.1)\n",
            "Requirement already satisfied: exceptiongroup in /usr/local/lib/python3.10/dist-packages (from trio~=0.17->selenium) (1.2.2)\n",
            "Collecting wsproto>=0.14 (from trio-websocket~=0.9->selenium)\n",
            "  Downloading wsproto-1.2.0-py3-none-any.whl.metadata (5.6 kB)\n",
            "Requirement already satisfied: pysocks!=1.5.7,<2.0,>=1.5.6 in /usr/local/lib/python3.10/dist-packages (from urllib3[socks]<3,>=1.26->selenium) (1.7.1)\n",
            "Requirement already satisfied: h11<1,>=0.9.0 in /usr/local/lib/python3.10/dist-packages (from wsproto>=0.14->trio-websocket~=0.9->selenium) (0.14.0)\n",
            "Downloading selenium-4.26.1-py3-none-any.whl (9.7 MB)\n",
            "\u001b[2K   \u001b[90m━━━━━━━━━━━━━━━━━━━━━━━━━━━━━━━━━━━━━━━━\u001b[0m \u001b[32m9.7/9.7 MB\u001b[0m \u001b[31m21.9 MB/s\u001b[0m eta \u001b[36m0:00:00\u001b[0m\n",
            "\u001b[?25hDownloading trio-0.27.0-py3-none-any.whl (481 kB)\n",
            "\u001b[2K   \u001b[90m━━━━━━━━━━━━━━━━━━━━━━━━━━━━━━━━━━━━━━━━\u001b[0m \u001b[32m481.7/481.7 kB\u001b[0m \u001b[31m12.6 MB/s\u001b[0m eta \u001b[36m0:00:00\u001b[0m\n",
            "\u001b[?25hDownloading trio_websocket-0.11.1-py3-none-any.whl (17 kB)\n",
            "Downloading wsproto-1.2.0-py3-none-any.whl (24 kB)\n",
            "Downloading outcome-1.3.0.post0-py2.py3-none-any.whl (10 kB)\n",
            "Downloading sortedcontainers-2.4.0-py2.py3-none-any.whl (29 kB)\n",
            "Installing collected packages: sortedcontainers, wsproto, outcome, trio, trio-websocket, selenium\n",
            "Successfully installed outcome-1.3.0.post0 selenium-4.26.1 sortedcontainers-2.4.0 trio-0.27.0 trio-websocket-0.11.1 wsproto-1.2.0\n"
          ]
        }
      ],
      "source": [
        "!pip install selenium"
      ]
    },
    {
      "cell_type": "code",
      "source": [
        "!apt-get update"
      ],
      "metadata": {
        "colab": {
          "base_uri": "https://localhost:8080/"
        },
        "id": "AQdX6G5J2mKk",
        "outputId": "f880b378-75c9-48ca-cadc-2a14e072b989"
      },
      "execution_count": null,
      "outputs": [
        {
          "output_type": "stream",
          "name": "stdout",
          "text": [
            "\r0% [Working]\r            \rHit:1 http://archive.ubuntu.com/ubuntu jammy InRelease\n",
            "\r0% [Waiting for headers] [Connecting to security.ubuntu.com] [Connecting to cloud.r-project.org (108\r                                                                                                    \rGet:2 http://archive.ubuntu.com/ubuntu jammy-updates InRelease [128 kB]\n",
            "\r0% [2 InRelease 15.6 kB/128 kB 12%] [Connecting to security.ubuntu.com (91.189.91.83)] [Connected to\r                                                                                                    \rGet:3 http://security.ubuntu.com/ubuntu jammy-security InRelease [129 kB]\n",
            "\r0% [2 InRelease 40.2 kB/128 kB 31%] [3 InRelease 14.2 kB/129 kB 11%] [Connected to cloud.r-project.o\r                                                                                                    \rGet:4 https://developer.download.nvidia.com/compute/cuda/repos/ubuntu2204/x86_64  InRelease [1,581 B]\n",
            "\r0% [2 InRelease 56.2 kB/128 kB 44%] [3 InRelease 14.2 kB/129 kB 11%] [Waiting for headers] [Waiting \r0% [2 InRelease 56.2 kB/128 kB 44%] [3 InRelease 14.2 kB/129 kB 11%] [Waiting for headers] [Waiting \r                                                                                                    \rGet:5 https://cloud.r-project.org/bin/linux/ubuntu jammy-cran40/ InRelease [3,626 B]\n",
            "\r0% [2 InRelease 66.3 kB/128 kB 52%] [3 InRelease 20.0 kB/129 kB 15%] [Waiting for headers] [Connecti\r0% [Waiting for headers] [3 InRelease 62.0 kB/129 kB 48%] [Waiting for headers] [Connected to ppa.la\r                                                                                                    \rGet:6 https://r2u.stat.illinois.edu/ubuntu jammy InRelease [6,555 B]\n",
            "Get:7 http://archive.ubuntu.com/ubuntu jammy-backports InRelease [127 kB]\n",
            "Hit:8 https://ppa.launchpadcontent.net/deadsnakes/ppa/ubuntu jammy InRelease\n",
            "Get:9 https://developer.download.nvidia.com/compute/cuda/repos/ubuntu2204/x86_64  Packages [1,172 kB]\n",
            "Hit:10 https://ppa.launchpadcontent.net/graphics-drivers/ppa/ubuntu jammy InRelease\n",
            "Hit:11 https://ppa.launchpadcontent.net/ubuntugis/ppa/ubuntu jammy InRelease\n",
            "Get:12 http://archive.ubuntu.com/ubuntu jammy-updates/restricted amd64 Packages [3,413 kB]\n",
            "Get:13 http://archive.ubuntu.com/ubuntu jammy-updates/universe amd64 Packages [1,512 kB]\n",
            "Get:14 http://archive.ubuntu.com/ubuntu jammy-updates/main amd64 Packages [2,734 kB]\n",
            "Get:15 https://r2u.stat.illinois.edu/ubuntu jammy/main all Packages [8,498 kB]\n",
            "Get:16 http://security.ubuntu.com/ubuntu jammy-security/universe amd64 Packages [1,223 kB]\n",
            "Get:17 http://security.ubuntu.com/ubuntu jammy-security/main amd64 Packages [2,452 kB]\n",
            "Get:18 http://security.ubuntu.com/ubuntu jammy-security/restricted amd64 Packages [3,323 kB]\n",
            "Get:19 https://r2u.stat.illinois.edu/ubuntu jammy/main amd64 Packages [2,613 kB]\n",
            "Fetched 27.3 MB in 3s (8,220 kB/s)\n",
            "Reading package lists... Done\n",
            "W: Skipping acquire of configured file 'main/source/Sources' as repository 'https://r2u.stat.illinois.edu/ubuntu jammy InRelease' does not seem to provide it (sources.list entry misspelt?)\n"
          ]
        }
      ]
    },
    {
      "cell_type": "code",
      "source": [
        "!apt-get install -y chromium-browser"
      ],
      "metadata": {
        "colab": {
          "base_uri": "https://localhost:8080/"
        },
        "id": "gS9faEAs22Qk",
        "outputId": "ed97883b-df3d-4852-ba79-fac1869809ac"
      },
      "execution_count": null,
      "outputs": [
        {
          "output_type": "stream",
          "name": "stdout",
          "text": [
            "Reading package lists... Done\n",
            "Building dependency tree... Done\n",
            "Reading state information... Done\n",
            "The following additional packages will be installed:\n",
            "  apparmor libfuse3-3 liblzo2-2 libudev1 snapd squashfs-tools systemd-hwe-hwdb udev\n",
            "Suggested packages:\n",
            "  apparmor-profiles-extra apparmor-utils fuse3 zenity | kdialog\n",
            "The following NEW packages will be installed:\n",
            "  apparmor chromium-browser libfuse3-3 liblzo2-2 snapd squashfs-tools systemd-hwe-hwdb udev\n",
            "The following packages will be upgraded:\n",
            "  libudev1\n",
            "1 upgraded, 8 newly installed, 0 to remove and 48 not upgraded.\n",
            "Need to get 29.0 MB of archives.\n",
            "After this operation, 120 MB of additional disk space will be used.\n",
            "Get:1 http://archive.ubuntu.com/ubuntu jammy-updates/main amd64 apparmor amd64 3.0.4-2ubuntu2.4 [598 kB]\n",
            "Get:2 http://archive.ubuntu.com/ubuntu jammy/main amd64 liblzo2-2 amd64 2.10-2build3 [53.7 kB]\n",
            "Get:3 http://archive.ubuntu.com/ubuntu jammy/main amd64 squashfs-tools amd64 1:4.5-3build1 [159 kB]\n",
            "Get:4 http://archive.ubuntu.com/ubuntu jammy-updates/main amd64 libudev1 amd64 249.11-0ubuntu3.12 [78.2 kB]\n",
            "Get:5 http://archive.ubuntu.com/ubuntu jammy-updates/main amd64 udev amd64 249.11-0ubuntu3.12 [1,557 kB]\n",
            "Get:6 http://archive.ubuntu.com/ubuntu jammy/main amd64 libfuse3-3 amd64 3.10.5-1build1 [81.2 kB]\n",
            "Get:7 http://archive.ubuntu.com/ubuntu jammy-updates/main amd64 snapd amd64 2.65.3+22.04 [26.4 MB]\n",
            "Get:8 http://archive.ubuntu.com/ubuntu jammy-updates/universe amd64 chromium-browser amd64 1:85.0.4183.83-0ubuntu2.22.04.1 [49.2 kB]\n",
            "Get:9 http://archive.ubuntu.com/ubuntu jammy-updates/main amd64 systemd-hwe-hwdb all 249.11.5 [3,228 B]\n",
            "Fetched 29.0 MB in 2s (14.8 MB/s)\n",
            "Preconfiguring packages ...\n",
            "Selecting previously unselected package apparmor.\n",
            "(Reading database ... 123630 files and directories currently installed.)\n",
            "Preparing to unpack .../apparmor_3.0.4-2ubuntu2.4_amd64.deb ...\n",
            "Unpacking apparmor (3.0.4-2ubuntu2.4) ...\n",
            "Selecting previously unselected package liblzo2-2:amd64.\n",
            "Preparing to unpack .../liblzo2-2_2.10-2build3_amd64.deb ...\n",
            "Unpacking liblzo2-2:amd64 (2.10-2build3) ...\n",
            "Selecting previously unselected package squashfs-tools.\n",
            "Preparing to unpack .../squashfs-tools_1%3a4.5-3build1_amd64.deb ...\n",
            "Unpacking squashfs-tools (1:4.5-3build1) ...\n",
            "Preparing to unpack .../libudev1_249.11-0ubuntu3.12_amd64.deb ...\n",
            "Unpacking libudev1:amd64 (249.11-0ubuntu3.12) over (249.11-0ubuntu3.10) ...\n",
            "Setting up libudev1:amd64 (249.11-0ubuntu3.12) ...\n",
            "Selecting previously unselected package udev.\n",
            "(Reading database ... 123838 files and directories currently installed.)\n",
            "Preparing to unpack .../udev_249.11-0ubuntu3.12_amd64.deb ...\n",
            "Unpacking udev (249.11-0ubuntu3.12) ...\n",
            "Selecting previously unselected package libfuse3-3:amd64.\n",
            "Preparing to unpack .../libfuse3-3_3.10.5-1build1_amd64.deb ...\n",
            "Unpacking libfuse3-3:amd64 (3.10.5-1build1) ...\n",
            "Selecting previously unselected package snapd.\n",
            "Preparing to unpack .../snapd_2.65.3+22.04_amd64.deb ...\n",
            "Unpacking snapd (2.65.3+22.04) ...\n",
            "Setting up apparmor (3.0.4-2ubuntu2.4) ...\n",
            "Created symlink /etc/systemd/system/sysinit.target.wants/apparmor.service → /lib/systemd/system/apparmor.service.\n",
            "Setting up liblzo2-2:amd64 (2.10-2build3) ...\n",
            "Setting up squashfs-tools (1:4.5-3build1) ...\n",
            "Setting up udev (249.11-0ubuntu3.12) ...\n",
            "invoke-rc.d: could not determine current runlevel\n",
            "invoke-rc.d: policy-rc.d denied execution of start.\n",
            "Setting up libfuse3-3:amd64 (3.10.5-1build1) ...\n",
            "Setting up snapd (2.65.3+22.04) ...\n",
            "Created symlink /etc/systemd/system/multi-user.target.wants/snapd.apparmor.service → /lib/systemd/system/snapd.apparmor.service.\n",
            "Created symlink /etc/systemd/system/multi-user.target.wants/snapd.autoimport.service → /lib/systemd/system/snapd.autoimport.service.\n",
            "Created symlink /etc/systemd/system/multi-user.target.wants/snapd.core-fixup.service → /lib/systemd/system/snapd.core-fixup.service.\n",
            "Created symlink /etc/systemd/system/multi-user.target.wants/snapd.recovery-chooser-trigger.service → /lib/systemd/system/snapd.recovery-chooser-trigger.service.\n",
            "Created symlink /etc/systemd/system/multi-user.target.wants/snapd.seeded.service → /lib/systemd/system/snapd.seeded.service.\n",
            "Created symlink /etc/systemd/system/cloud-final.service.wants/snapd.seeded.service → /lib/systemd/system/snapd.seeded.service.\n",
            "Unit /lib/systemd/system/snapd.seeded.service is added as a dependency to a non-existent unit cloud-final.service.\n",
            "Created symlink /etc/systemd/system/multi-user.target.wants/snapd.service → /lib/systemd/system/snapd.service.\n",
            "Created symlink /etc/systemd/system/timers.target.wants/snapd.snap-repair.timer → /lib/systemd/system/snapd.snap-repair.timer.\n",
            "Created symlink /etc/systemd/system/sockets.target.wants/snapd.socket → /lib/systemd/system/snapd.socket.\n",
            "Created symlink /etc/systemd/system/final.target.wants/snapd.system-shutdown.service → /lib/systemd/system/snapd.system-shutdown.service.\n",
            "Selecting previously unselected package chromium-browser.\n",
            "(Reading database ... 124067 files and directories currently installed.)\n",
            "Preparing to unpack .../chromium-browser_1%3a85.0.4183.83-0ubuntu2.22.04.1_amd64.deb ...\n",
            "=> Installing the chromium snap\n",
            "==> Checking connectivity with the snap store\n",
            "===> System doesn't have a working snapd, skipping\n",
            "Unpacking chromium-browser (1:85.0.4183.83-0ubuntu2.22.04.1) ...\n",
            "Selecting previously unselected package systemd-hwe-hwdb.\n",
            "Preparing to unpack .../systemd-hwe-hwdb_249.11.5_all.deb ...\n",
            "Unpacking systemd-hwe-hwdb (249.11.5) ...\n",
            "Setting up systemd-hwe-hwdb (249.11.5) ...\n",
            "Setting up chromium-browser (1:85.0.4183.83-0ubuntu2.22.04.1) ...\n",
            "update-alternatives: using /usr/bin/chromium-browser to provide /usr/bin/x-www-browser (x-www-browser) in auto mode\n",
            "update-alternatives: using /usr/bin/chromium-browser to provide /usr/bin/gnome-www-browser (gnome-www-browser) in auto mode\n",
            "Processing triggers for libc-bin (2.35-0ubuntu3.4) ...\n",
            "/sbin/ldconfig.real: /usr/local/lib/libumf.so.0 is not a symbolic link\n",
            "\n",
            "/sbin/ldconfig.real: /usr/local/lib/libtbb.so.12 is not a symbolic link\n",
            "\n",
            "/sbin/ldconfig.real: /usr/local/lib/libtbbmalloc_proxy.so.2 is not a symbolic link\n",
            "\n",
            "/sbin/ldconfig.real: /usr/local/lib/libtbbmalloc.so.2 is not a symbolic link\n",
            "\n",
            "/sbin/ldconfig.real: /usr/local/lib/libtbbbind.so.3 is not a symbolic link\n",
            "\n",
            "/sbin/ldconfig.real: /usr/local/lib/libtbbbind_2_0.so.3 is not a symbolic link\n",
            "\n",
            "/sbin/ldconfig.real: /usr/local/lib/libtcm.so.1 is not a symbolic link\n",
            "\n",
            "/sbin/ldconfig.real: /usr/local/lib/libur_loader.so.0 is not a symbolic link\n",
            "\n",
            "/sbin/ldconfig.real: /usr/local/lib/libhwloc.so.15 is not a symbolic link\n",
            "\n",
            "/sbin/ldconfig.real: /usr/local/lib/libur_adapter_opencl.so.0 is not a symbolic link\n",
            "\n",
            "/sbin/ldconfig.real: /usr/local/lib/libur_adapter_level_zero.so.0 is not a symbolic link\n",
            "\n",
            "/sbin/ldconfig.real: /usr/local/lib/libtcm_debug.so.1 is not a symbolic link\n",
            "\n",
            "/sbin/ldconfig.real: /usr/local/lib/libtbbbind_2_5.so.3 is not a symbolic link\n",
            "\n",
            "Processing triggers for man-db (2.10.2-1) ...\n",
            "Processing triggers for dbus (1.12.20-2ubuntu4.1) ...\n",
            "Processing triggers for udev (249.11-0ubuntu3.12) ...\n",
            "Processing triggers for hicolor-icon-theme (0.17-2) ...\n"
          ]
        }
      ]
    },
    {
      "cell_type": "code",
      "source": [
        "!apt install chromium-chromedriver"
      ],
      "metadata": {
        "colab": {
          "base_uri": "https://localhost:8080/"
        },
        "id": "7VzBs4ZX3CyK",
        "outputId": "105b7ab6-c81e-4915-9450-675a799d9ed1"
      },
      "execution_count": null,
      "outputs": [
        {
          "output_type": "stream",
          "name": "stdout",
          "text": [
            "Reading package lists... Done\n",
            "Building dependency tree... Done\n",
            "Reading state information... Done\n",
            "The following NEW packages will be installed:\n",
            "  chromium-chromedriver\n",
            "0 upgraded, 1 newly installed, 0 to remove and 48 not upgraded.\n",
            "Need to get 2,308 B of archives.\n",
            "After this operation, 77.8 kB of additional disk space will be used.\n",
            "Get:1 http://archive.ubuntu.com/ubuntu jammy-updates/universe amd64 chromium-chromedriver amd64 1:85.0.4183.83-0ubuntu2.22.04.1 [2,308 B]\n",
            "Fetched 2,308 B in 0s (15.4 kB/s)\n",
            "Selecting previously unselected package chromium-chromedriver.\n",
            "(Reading database ... 124088 files and directories currently installed.)\n",
            "Preparing to unpack .../chromium-chromedriver_1%3a85.0.4183.83-0ubuntu2.22.04.1_amd64.deb ...\n",
            "Unpacking chromium-chromedriver (1:85.0.4183.83-0ubuntu2.22.04.1) ...\n",
            "Setting up chromium-chromedriver (1:85.0.4183.83-0ubuntu2.22.04.1) ...\n"
          ]
        }
      ]
    },
    {
      "cell_type": "code",
      "source": [
        "from selenium import webdriver\n",
        "from selenium.webdriver.chrome.service import Service\n",
        "from selenium.webdriver.common.by import By"
      ],
      "metadata": {
        "id": "2kEiWNzH3MKq"
      },
      "execution_count": null,
      "outputs": []
    },
    {
      "cell_type": "code",
      "source": [
        "def web_driver():\n",
        "  options = webdriver.ChromeOptions()\n",
        "  options.add_argument(\"--verbose\")\n",
        "  options.add_argument('--no-sandbox')\n",
        "  options.add_argument('--headless')\n",
        "  options.add_argument('--disable-gpu')\n",
        "  options.add_argument('--disable-dve-shm-uage')\n",
        "  driver = webdriver.Chrome(options=options)\n",
        "  return driver"
      ],
      "metadata": {
        "id": "CED40lJ27YO4"
      },
      "execution_count": null,
      "outputs": []
    },
    {
      "cell_type": "code",
      "source": [
        "driver = web_driver()"
      ],
      "metadata": {
        "id": "ilHhGEed7sNt"
      },
      "execution_count": null,
      "outputs": []
    },
    {
      "cell_type": "code",
      "source": [
        "driver.get('https://www.gutenberg.org/ebooks/search/?sort_order=downloads')"
      ],
      "metadata": {
        "id": "c6W6wHq370zU"
      },
      "execution_count": null,
      "outputs": []
    },
    {
      "cell_type": "code",
      "source": [
        "driver.page_source"
      ],
      "metadata": {
        "colab": {
          "base_uri": "https://localhost:8080/",
          "height": 139
        },
        "id": "kB_dN6cQ77sH",
        "outputId": "5e7203c0-f496-47b4-fdfa-f2d74336f8b5"
      },
      "execution_count": null,
      "outputs": [
        {
          "output_type": "execute_result",
          "data": {
            "text/plain": [
              "'<html lang=\"en_US\"><head>\\n<style>\\n.icon   { background: transparent url(/pics/sprite.png) 0 0 no-repeat; }\\n.page_content a.subtle_link:link {color:currentColor; text-decoration: none;}\\n.page_content a.subtle_link:hover {color:#003366}\\n</style>\\n<link rel=\"stylesheet\" type=\"text/css\" href=\"/gutenberg/pg-desktop-one.css\">\\n<link rel=\"stylesheet\" type=\"text/css\" href=\"/gutenberg/new_nav.css\">\\n<link rel=\"stylesheet\" type=\"text/css\" href=\"/gutenberg/style.css\">\\n<script>//\\nvar canonical_url   = \"http://www.gutenberg.org/ebooks/search/?sort_order=downloads\";\\nvar lang            = \"en_US\";\\nvar msg_load_more   = \"Load More Results…\";\\nvar page_mode       = \"screen\";\\nvar dialog_title    = \"\";\\nvar dialog_message  = \"\";\\n//</script>\\n<script src=\"/js/pg-two.js\"></script>\\n<link rel=\"shortcut icon\" href=\"/gutenberg/favicon.ico\">\\n<link rel=\"canonical\" href=\"http://www.gutenberg.org/ebooks/search/?sort_order=downloads\">\\n<link rel=\"search\" type=\"application/opensearchdescription+xml\" title=\"Search Project Gutenberg\" href=\"https://www.gutenberg.org/catalog/osd-books.xml\">\\n<link rel=\"alternate nofollow\" type=\"application/atom+xml;profile=opds-catalog\" title=\"OPDS feed\" href=\"/ebooks/search.opds/?sort_order=downloads\">\\n<link rel=\"apple-touch-icon\" href=\"/gutenberg/apple-icon.png\">\\n<meta name=\"viewport\" content=\"width=device-width\">\\n<meta http-equiv=\"Content-Type\" content=\"text/html; charset=UTF-8\">\\n<meta http-equiv=\"default-style\" content=\"text/css\">\\n<meta name=\"title\" content=\"All Books (sorted by popularity)\">\\n<meta name=\"description\" content=\"Project Gutenberg offers 74,603 free eBooks for Kindle, iPad, Nook, Android, and iPhone.\">\\n<meta name=\"keywords\" content=\"ebook, ebooks, free ebooks, free books, book, books, audio books\">\\n<meta name=\"classification\" content=\"public\">\\n<meta property=\"og:title\" content=\"All Books (sorted by popularity)\">\\n<meta property=\"og:description\" content=\"Project Gutenberg offers 74,603 free eBooks for Kindle, iPad, Nook, Android, and iPhone.\">\\n<meta property=\"og:type\" content=\"website\">\\n<meta property=\"og:image\" content=\"http://www.gutenberg.org/pics/logo-144x144.png\">\\n<meta property=\"og:url\" content=\"http://www.gutenberg.org/ebooks/search/?sort_order=downloads\">\\n<meta property=\"og:site_name\" content=\"Project Gutenberg\">\\n<meta property=\"fb:app_id\" content=\"115319388529183\">\\n<meta name=\"twitter:card\" content=\"summary\">\\n<meta name=\"twitter:site\" content=\"@gutenberg_new\">\\n<meta name=\"twitter:image\" content=\"http://www.gutenberg.org/pics/logo-144x144.png\">\\n<meta name=\"twitter:image:alt\" content=\"book cover image\">\\n<title>All Books (sorted by popularity) - Project Gutenberg</title>\\n<link rel=\"self\" title=\"This Page\" href=\"/ebooks/search/\">\\n<link rel=\"next\" title=\"Next Page\" href=\"/ebooks/search/?start_index=26\">\\n<meta name=\"totalResults\" content=\"26\">\\n<meta name=\"startIndex\" content=\"1\">\\n<meta name=\"itemsPerPage\" content=\"25\">\\n</head>\\n<body>\\n<div id=\"mw-head-dummy\" class=\"noprint\"></div>\\n<div id=\"content\" class=\"page_content\">\\n<div class=\"header\">\\n<h1><span class=\"icon icon_\"></span>All Books (sorted by popularity)</h1>\\n</div>\\n<div class=\"body\">\\n<div>\\n<ul class=\"results\">\\n<li class=\"grayed navlink\">\\n<a class=\"link\" href=\"/ebooks/search/?sort_order=title\" accesskey=\"0\">\\n<span class=\"cell leftcell without-cover\">\\n<span class=\"icon-wrapper\">\\n<span class=\"icon icon_alpha\"></span>\\n</span>\\n</span>\\n<span class=\"cell content\">\\n<span class=\"title\">Sort Alphabetically by Title</span>\\n</span>\\n<span class=\"hstrut\"></span>\\n</a>\\n</li>\\n<li class=\"grayed navlink\">\\n<a class=\"link\" href=\"/ebooks/search/?sort_order=release_date\" accesskey=\"1\">\\n<span class=\"cell leftcell without-cover\">\\n<span class=\"icon-wrapper\">\\n<span class=\"icon icon_date\"></span>\\n</span>\\n</span>\\n<span class=\"cell content\">\\n<span class=\"title\">Sort by Release Date</span>\\n</span>\\n<span class=\"hstrut\"></span>\\n</a>\\n</li>\\n<li class=\"statusline\">\\n<div class=\"padded\">\\n<span>Displaying results 1–25</span>\\n<span class=\"links\">\\n|\\n<a title=\"Go to the next page of results.\" accesskey=\"+\" href=\"/ebooks/search/?sort_order=downloads&amp;start_index=26\">Next</a>\\n</span>\\n</div>\\n</li>\\n<li class=\"booklink\">\\n<a class=\"link\" href=\"/ebooks/84\" accesskey=\"3\">\\n<span class=\"cell leftcell with-cover\">\\n<img class=\"cover-thumb\" src=\"/cache/epub/84/pg84.cover.small.jpg\" alt=\"\">\\n</span>\\n<span class=\"cell content\">\\n<span class=\"title\">Frankenstein; Or, The Modern Prometheus</span>\\n<span class=\"subtitle\">Mary Wollstonecraft Shelley</span>\\n<span class=\"extra\">184272 downloads</span>\\n</span>\\n<span class=\"hstrut\"></span>\\n</a>\\n</li>\\n<li class=\"booklink\">\\n<a class=\"link\" href=\"/ebooks/25558\" accesskey=\"4\">\\n<span class=\"cell leftcell with-cover\">\\n<img class=\"cover-thumb\" src=\"/cache/epub/25558/pg25558.cover.small.jpg\" alt=\"\">\\n</span>\\n<span class=\"cell content\">\\n<span class=\"title\">呻吟語 (Chinese)</span>\\n<span class=\"subtitle\">Kun Lü</span>\\n<span class=\"extra\">108885 downloads</span>\\n</span>\\n<span class=\"hstrut\"></span>\\n</a>\\n</li>\\n<li class=\"booklink\">\\n<a class=\"link\" href=\"/ebooks/2701\" accesskey=\"5\">\\n<span class=\"cell leftcell with-cover\">\\n<img class=\"cover-thumb\" src=\"/cache/epub/2701/pg2701.cover.small.jpg\" alt=\"\">\\n</span>\\n<span class=\"cell content\">\\n<span class=\"title\">Moby Dick; Or, The Whale</span>\\n<span class=\"subtitle\">Herman Melville</span>\\n<span class=\"extra\">74835 downloads</span>\\n</span>\\n<span class=\"hstrut\"></span>\\n</a>\\n</li>\\n<li class=\"booklink\">\\n<a class=\"link\" href=\"/ebooks/1513\" accesskey=\"6\">\\n<span class=\"cell leftcell with-cover\">\\n<img class=\"cover-thumb\" src=\"/cache/epub/1513/pg1513.cover.small.jpg\" alt=\"\">\\n</span>\\n<span class=\"cell content\">\\n<span class=\"title\">Romeo and Juliet</span>\\n<span class=\"subtitle\">William Shakespeare</span>\\n<span class=\"extra\">71993 downloads</span>\\n</span>\\n<span class=\"hstrut\"></span>\\n</a>\\n</li>\\n<li class=\"booklink\">\\n<a class=\"link\" href=\"/ebooks/1342\" accesskey=\"7\">\\n<span class=\"cell leftcell with-cover\">\\n<img class=\"cover-thumb\" src=\"/cache/epub/1342/pg1342.cover.small.jpg\" alt=\"\">\\n</span>\\n<span class=\"cell content\">\\n<span class=\"title\">Pride and Prejudice</span>\\n<span class=\"subtitle\">Jane Austen</span>\\n<span class=\"extra\">68941 downloads</span>\\n</span>\\n<span class=\"hstrut\"></span>\\n</a>\\n</li>\\n<li class=\"booklink\">\\n<a class=\"link\" href=\"/ebooks/25344\" accesskey=\"8\">\\n<span class=\"cell leftcell with-cover\">\\n<img class=\"cover-thumb\" src=\"/cache/epub/25344/pg25344.cover.small.jpg\" alt=\"\">\\n</span>\\n<span class=\"cell content\">\\n<span class=\"title\">The Scarlet Letter</span>\\n<span class=\"subtitle\">Nathaniel Hawthorne</span>\\n<span class=\"extra\">58362 downloads</span>\\n</span>\\n<span class=\"hstrut\"></span>\\n</a>\\n</li>\\n<li class=\"booklink\">\\n<a class=\"link\" href=\"/ebooks/11\" accesskey=\"9\">\\n<span class=\"cell leftcell with-cover\">\\n<img class=\"cover-thumb\" src=\"/cache/epub/11/pg11.cover.small.jpg\" alt=\"\">\\n</span>\\n<span class=\"cell content\">\\n<span class=\"title\">Alice\\'s Adventures in Wonderland</span>\\n<span class=\"subtitle\">Lewis Carroll</span>\\n<span class=\"extra\">52853 downloads</span>\\n</span>\\n<span class=\"hstrut\"></span>\\n</a>\\n</li>\\n<li class=\"booklink\">\\n<a class=\"link\" href=\"/ebooks/100\" accesskey=\"0\">\\n<span class=\"cell leftcell with-cover\">\\n<img class=\"cover-thumb\" src=\"/cache/epub/100/pg100.cover.small.jpg\" alt=\"\">\\n</span>\\n<span class=\"cell content\">\\n<span class=\"title\">The Complete Works of William Shakespeare</span>\\n<span class=\"subtitle\">William Shakespeare</span>\\n<span class=\"extra\">51845 downloads</span>\\n</span>\\n<span class=\"hstrut\"></span>\\n</a>\\n</li>\\n<li class=\"booklink\">\\n<a class=\"link\" href=\"/ebooks/145\" accesskey=\"1\">\\n<span class=\"cell leftcell with-cover\">\\n<img class=\"cover-thumb\" src=\"/cache/epub/145/pg145.cover.small.jpg\" alt=\"\">\\n</span>\\n<span class=\"cell content\">\\n<span class=\"title\">Middlemarch</span>\\n<span class=\"subtitle\">George Eliot</span>\\n<span class=\"extra\">50930 downloads</span>\\n</span>\\n<span class=\"hstrut\"></span>\\n</a>\\n</li>\\n<li class=\"booklink\">\\n<a class=\"link\" href=\"/ebooks/2641\" accesskey=\"2\">\\n<span class=\"cell leftcell with-cover\">\\n<img class=\"cover-thumb\" src=\"/cache/epub/2641/pg2641.cover.small.jpg\" alt=\"\">\\n</span>\\n<span class=\"cell content\">\\n<span class=\"title\">A Room with a View</span>\\n<span class=\"subtitle\">E. M. Forster</span>\\n<span class=\"extra\">50048 downloads</span>\\n</span>\\n<span class=\"hstrut\"></span>\\n</a>\\n</li>\\n<li class=\"booklink\">\\n<a class=\"link\" href=\"/ebooks/37106\" accesskey=\"3\">\\n<span class=\"cell leftcell with-cover\">\\n<img class=\"cover-thumb\" src=\"/cache/epub/37106/pg37106.cover.small.jpg\" alt=\"\">\\n</span>\\n<span class=\"cell content\">\\n<span class=\"title\">Little Women; Or, Meg, Jo, Beth, and Amy</span>\\n<span class=\"subtitle\">Louisa May Alcott</span>\\n<span class=\"extra\">47978 downloads</span>\\n</span>\\n<span class=\"hstrut\"></span>\\n</a>\\n</li>\\n<li class=\"booklink\">\\n<a class=\"link\" href=\"/ebooks/2542\" accesskey=\"4\">\\n<span class=\"cell leftcell with-cover\">\\n<img class=\"cover-thumb\" src=\"/cache/epub/2542/pg2542.cover.small.jpg\" alt=\"\">\\n</span>\\n<span class=\"cell content\">\\n<span class=\"title\">A Doll\\'s House : a play</span>\\n<span class=\"subtitle\">Henrik Ibsen</span>\\n<span class=\"extra\">47436 downloads</span>\\n</span>\\n<span class=\"hstrut\"></span>\\n</a>\\n</li>\\n<li class=\"booklink\">\\n<a class=\"link\" href=\"/ebooks/67979\" accesskey=\"5\">\\n<span class=\"cell leftcell with-cover\">\\n<img class=\"cover-thumb\" src=\"/cache/epub/67979/pg67979.cover.small.jpg\" alt=\"\">\\n</span>\\n<span class=\"cell content\">\\n<span class=\"title\">The Blue Castle: a novel</span>\\n<span class=\"subtitle\">L. M. Montgomery</span>\\n<span class=\"extra\">43987 downloads</span>\\n</span>\\n<span class=\"hstrut\"></span>\\n</a>\\n</li>\\n<li class=\"booklink\">\\n<a class=\"link\" href=\"/ebooks/16389\" accesskey=\"6\">\\n<span class=\"cell leftcell with-cover\">\\n<img class=\"cover-thumb\" src=\"/cache/epub/16389/pg16389.cover.small.jpg\" alt=\"\">\\n</span>\\n<span class=\"cell content\">\\n<span class=\"title\">The Enchanted April</span>\\n<span class=\"subtitle\">Elizabeth Von Arnim</span>\\n<span class=\"extra\">43317 downloads</span>\\n</span>\\n<span class=\"hstrut\"></span>\\n</a>\\n</li>\\n<li class=\"booklink\">\\n<a class=\"link\" href=\"/ebooks/6761\" accesskey=\"7\">\\n<span class=\"cell leftcell with-cover\">\\n<img class=\"cover-thumb\" src=\"/cache/epub/6761/pg6761.cover.small.jpg\" alt=\"\">\\n</span>\\n<span class=\"cell content\">\\n<span class=\"title\">The Adventures of Ferdinand Count Fathom — Complete</span>\\n<span class=\"subtitle\">T. Smollett</span>\\n<span class=\"extra\">40560 downloads</span>\\n</span>\\n<span class=\"hstrut\"></span>\\n</a>\\n</li>\\n<li class=\"booklink\">\\n<a class=\"link\" href=\"/ebooks/394\" accesskey=\"8\">\\n<span class=\"cell leftcell with-cover\">\\n<img class=\"cover-thumb\" src=\"/cache/epub/394/pg394.cover.small.jpg\" alt=\"\">\\n</span>\\n<span class=\"cell content\">\\n<span class=\"title\">Cranford</span>\\n<span class=\"subtitle\">Elizabeth Cleghorn Gaskell</span>\\n<span class=\"extra\">40317 downloads</span>\\n</span>\\n<span class=\"hstrut\"></span>\\n</a>\\n</li>\\n<li class=\"booklink\">\\n<a class=\"link\" href=\"/ebooks/2160\" accesskey=\"9\">\\n<span class=\"cell leftcell with-cover\">\\n<img class=\"cover-thumb\" src=\"/cache/epub/2160/pg2160.cover.small.jpg\" alt=\"\">\\n</span>\\n<span class=\"cell content\">\\n<span class=\"title\">The Expedition of Humphry Clinker</span>\\n<span class=\"subtitle\">T. Smollett</span>\\n<span class=\"extra\">39699 downloads</span>\\n</span>\\n<span class=\"hstrut\"></span>\\n</a>\\n</li>\\n<li class=\"booklink\">\\n<a class=\"link\" href=\"/ebooks/6593\" accesskey=\"0\">\\n<span class=\"cell leftcell with-cover\">\\n<img class=\"cover-thumb\" src=\"/cache/epub/6593/pg6593.cover.small.jpg\" alt=\"\">\\n</span>\\n<span class=\"cell content\">\\n<span class=\"title\">History of Tom Jones, a Foundling</span>\\n<span class=\"subtitle\">Henry Fielding</span>\\n<span class=\"extra\">39584 downloads</span>\\n</span>\\n<span class=\"hstrut\"></span>\\n</a>\\n</li>\\n<li class=\"booklink\">\\n<a class=\"link\" href=\"/ebooks/64317\" accesskey=\"1\">\\n<span class=\"cell leftcell with-cover\">\\n<img class=\"cover-thumb\" src=\"/cache/epub/64317/pg64317.cover.small.jpg\" alt=\"\">\\n</span>\\n<span class=\"cell content\">\\n<span class=\"title\">The Great Gatsby</span>\\n<span class=\"subtitle\">F. Scott Fitzgerald</span>\\n<span class=\"extra\">39561 downloads</span>\\n</span>\\n<span class=\"hstrut\"></span>\\n</a>\\n</li>\\n<li class=\"booklink\">\\n<a class=\"link\" href=\"/ebooks/4085\" accesskey=\"2\">\\n<span class=\"cell leftcell with-cover\">\\n<img class=\"cover-thumb\" src=\"/cache/epub/4085/pg4085.cover.small.jpg\" alt=\"\">\\n</span>\\n<span class=\"cell content\">\\n<span class=\"title\">The Adventures of Roderick Random</span>\\n<span class=\"subtitle\">T. Smollett</span>\\n<span class=\"extra\">39272 downloads</span>\\n</span>\\n<span class=\"hstrut\"></span>\\n</a>\\n</li>\\n<li class=\"booklink\">\\n<a class=\"link\" href=\"/ebooks/5197\" accesskey=\"3\">\\n<span class=\"cell leftcell with-cover\">\\n<img class=\"cover-thumb\" src=\"/cache/epub/5197/pg5197.cover.small.jpg\" alt=\"\">\\n</span>\\n<span class=\"cell content\">\\n<span class=\"title\">My Life — Volume 1</span>\\n<span class=\"subtitle\">Richard Wagner</span>\\n<span class=\"extra\">38754 downloads</span>\\n</span>\\n<span class=\"hstrut\"></span>\\n</a>\\n</li>\\n<li class=\"booklink\">\\n<a class=\"link\" href=\"/ebooks/1259\" accesskey=\"4\">\\n<span class=\"cell leftcell with-cover\">\\n<img class=\"cover-thumb\" src=\"/cache/epub/1259/pg1259.cover.small.jpg\" alt=\"\">\\n</span>\\n<span class=\"cell content\">\\n<span class=\"title\">Twenty years after</span>\\n<span class=\"subtitle\">Alexandre Dumas and Auguste Maquet</span>\\n<span class=\"extra\">38457 downloads</span>\\n</span>\\n<span class=\"hstrut\"></span>\\n</a>\\n</li>\\n<li class=\"booklink\">\\n<a class=\"link\" href=\"/ebooks/174\" accesskey=\"5\">\\n<span class=\"cell leftcell with-cover\">\\n<img class=\"cover-thumb\" src=\"/cache/epub/174/pg174.cover.small.jpg\" alt=\"\">\\n</span>\\n<span class=\"cell content\">\\n<span class=\"title\">The Picture of Dorian Gray</span>\\n<span class=\"subtitle\">Oscar Wilde</span>\\n<span class=\"extra\">37502 downloads</span>\\n</span>\\n<span class=\"hstrut\"></span>\\n</a>\\n</li>\\n<li class=\"booklink\">\\n<a class=\"link\" href=\"/ebooks/46\" accesskey=\"6\">\\n<span class=\"cell leftcell with-cover\">\\n<img class=\"cover-thumb\" src=\"/cache/epub/46/pg46.cover.small.jpg\" alt=\"\">\\n</span>\\n<span class=\"cell content\">\\n<span class=\"title\">A Christmas Carol in Prose; Being a Ghost Story of Christmas</span>\\n<span class=\"subtitle\">Charles Dickens</span>\\n<span class=\"extra\">35811 downloads</span>\\n</span>\\n<span class=\"hstrut\"></span>\\n</a>\\n</li>\\n<li class=\"booklink\">\\n<a class=\"link\" href=\"/ebooks/844\" accesskey=\"7\">\\n<span class=\"cell leftcell with-cover\">\\n<img class=\"cover-thumb\" src=\"/cache/epub/844/pg844.cover.small.jpg\" alt=\"\">\\n</span>\\n<span class=\"cell content\">\\n<span class=\"title\">The Importance of Being Earnest: A Trivial Comedy for Serious People</span>\\n<span class=\"subtitle\">Oscar Wilde</span>\\n<span class=\"extra\">35607 downloads</span>\\n</span>\\n<span class=\"hstrut\"></span>\\n</a>\\n</li>\\n<li class=\"statusline\">\\n<div class=\"padded\">\\nDisplaying results 1–25\\n<span class=\"links\">\\n|\\n<a title=\"Go to the next page of results.\" accesskey=\"+\" href=\"/ebooks/search/?sort_order=downloads&amp;start_index=26\">Next</a>\\n</span>\\n</div>\\n</li>\\n</ul>\\n</div>\\n</div>\\n</div>\\n<div class=\"footer\">\\n<div>\\n<ul>\\n<li>\\n<a href=\"/policy/privacy_policy.html\" title=\"Privacy Policy\">Privacy policy</a>\\n</li>\\n<li>\\n<a href=\"/about/\" title=\"About Project Gutenberg\">About Project Gutenberg</a>\\n</li>\\n<li>\\n<a href=\"/policy/terms_of_use.html\" title=\"Terms of Use\">Terms of Use</a>\\n</li>\\n<li>\\n<a href=\"/about/contact_information.html\" title=\"Contact Information\">Contact Information</a>\\n</li>\\n<li><a href=\"/help/\" title=\"Get Help\">Get Help</a></li>\\n</ul>\\n<a href=\"https://www.ibiblio.org/\" title=\"Project Gutenberg is hosted by ibiblio\">\\n<img src=\"/gutenberg/ibiblio-logo.png\" alt=\"iBiblio\">\\n</a>\\n</div>\\n</div>\\n<nav>\\n<!--<div id=\"main_logo\"> -->\\n<a id=\"main_logo\" href=\"/\" class=\"no-hover\">\\n<img src=\"/gutenberg/pg-logo-129x80.png\" alt=\"Project Gutenberg\" draggable=\"false\">\\n</a>\\n<!--\\t</div>-->\\n<div id=\"menu\">\\n<label for=\"tm\" id=\"toggle-menu\">Menu<span class=\"drop-icon\">▾</span></label>\\n<input type=\"checkbox\" id=\"tm\">\\n<ul class=\"main-menu cf\">\\n<li>\\n<a href=\"/about/\">About\\n<span class=\"drop-icon\">▾</span>\\n</a>\\n<label title=\"Toggle Drop-down\" class=\"drop-icon\" for=\"sm0\">▾</label>\\n<input type=\"checkbox\" id=\"sm0\">\\n<ul class=\"sub-menu\">\\n<li><a href=\"/about/\">About Project Gutenberg</a></li>\\n<li><a href=\"/policy/collection_development.html\">Collection Development</a></li>\\n<li><a href=\"/about/contact_information.html\">Contact Us</a></li>\\n<li><a href=\"/about/background/\">History &amp; Philosophy</a></li>\\n<li><a href=\"/policy/permission.html\">Permissions &amp; License</a></li>\\n<li><a href=\"/policy/privacy_policy.html\">Privacy Policy</a></li>\\n<li><a href=\"/policy/terms_of_use.html\">Terms of Use</a></li>\\n</ul>\\n</li>\\n<li>\\n<a href=\"/ebooks/\">Search and Browse\\n<span class=\"drop-icon\">▾</span>\\n</a>\\n<label title=\"Toggle Drop-down\" class=\"drop-icon\" for=\"sm8\">▾</label>\\n<input type=\"checkbox\" id=\"sm8\">\\n<ul class=\"sub-menu\">\\n<li><a href=\"/ebooks/\">Book Search</a></li>\\n<li><a href=\"/ebooks/bookshelf/\">Bookshelves</a></li>\\n<li><a href=\"/browse/scores/top\">Frequently Downloaded</a></li>\\n<li><a href=\"/ebooks/offline_catalogs.html\">Offline Catalogs</a></li>\\n</ul>\\n</li>\\n<li>\\n<a href=\"/help/\">Help\\n<span class=\"drop-icon\">▾</span>\\n</a>\\n<label title=\"Toggle Drop-down\" class=\"drop-icon\" for=\"sm3\">▾</label>\\n<input type=\"checkbox\" id=\"sm3\">\\n<ul class=\"sub-menu\">\\n<li><a href=\"/help/\">All help topics →</a></li>\\n<li><a href=\"/help/copyright.html\">Copyright Procedures</a></li>\\n<li><a href=\"/help/errata.html\">Errata, Fixes and Bug Reports</a></li>\\n<li><a href=\"/help/file_formats.html\">File Formats</a></li>\\n<li><a href=\"/help/faq.html\">Frequently Asked Questions</a></li>\\n<li><a href=\"/policy/\">Policies →</a></li>\\n<li><a href=\"/help/public_domain_ebook_submission.html\">Public Domain eBook Submission</a></li>\\n<li><a href=\"/help/submitting_your_own_work.html\">Submitting Your Own Work</a></li>\\n<li><a href=\"/help/mobile.html\">Tablets, Phones and eReaders</a></li>\\n<li><a href=\"/attic/\">The Attic →</a></li>\\n</ul>\\n</li>\\n<li><a href=\"/donate/\">Donate</a></li>\\n</ul>\\n</div>\\n<div class=\"donate\">\\n<div class=\"searchbox\">\\n<form method=\"get\" action=\"/ebooks/search/\" accept-charset=\"utf-8\" enctype=\"multipart/form-data\" class=\"searchbox\">\\n<input type=\"text\" value=\"\" id=\"menu-book-search\" name=\"query\" class=\"searchInput\" title=\"Quick search\" tabindex=\"20\" size=\"20\" maxlength=\"80\" placeholder=\"Quick search\">\\n<input type=\"submit\" name=\"submit_search\" value=\"Go!\" style=\"vertical-align:middle;\">\\n</form>\\n</div>\\n<form class=\"donatelink\" action=\"https://www.paypal.com/cgi-bin/webscr\" method=\"post\" target=\"new\">\\n<p><a href=\"/donate/\">Donation</a></p>\\n<input type=\"hidden\" name=\"cmd\" value=\"_s-xclick\">\\n<input type=\"hidden\" name=\"hosted_button_id\" value=\"XKAL6BZL3YPSN\">\\n<input class=\"donbtn\" type=\"image\" src=\"/pics/en_US.gif\" name=\"submit\" alt=\"Donate via PayPal\">\\n</form>\\n</div>\\n</nav>\\n\\n</body></html>'"
            ],
            "application/vnd.google.colaboratory.intrinsic+json": {
              "type": "string"
            }
          },
          "metadata": {},
          "execution_count": 22
        }
      ]
    },
    {
      "cell_type": "code",
      "source": [
        "books = driver.find_elements(By.XPATH, '//li[@class=\"booklink\"]')"
      ],
      "metadata": {
        "id": "PXw0gBgt8ASJ"
      },
      "execution_count": null,
      "outputs": []
    },
    {
      "cell_type": "code",
      "source": [
        "for container in books:\n",
        "  title = container.find_element(By.XPATH, './/span[@class=\"title\"]').text\n",
        "  subtitle = container.find_element(By.XPATH, './/span[@class=\"subtitle\"]').text\n",
        "  extra = container.find_element(By.XPATH, './/span[@class=\"extra\"]').text\n",
        "  print(title, subtitle, extra)"
      ],
      "metadata": {
        "collapsed": true,
        "colab": {
          "base_uri": "https://localhost:8080/"
        },
        "id": "VS56QA788cy1",
        "outputId": "6bab3c02-a330-4351-c575-6fde6df8755a"
      },
      "execution_count": null,
      "outputs": [
        {
          "output_type": "stream",
          "name": "stdout",
          "text": [
            "Frankenstein; Or, The Modern Prometheus Mary Wollstonecraft Shelley 184272 downloads\n",
            "呻吟語 (Chinese) Kun Lü 108885 downloads\n",
            "Moby Dick; Or, The Whale Herman Melville 74835 downloads\n",
            "Romeo and Juliet William Shakespeare 71993 downloads\n",
            "Pride and Prejudice Jane Austen 68941 downloads\n",
            "The Scarlet Letter Nathaniel Hawthorne 58362 downloads\n",
            "Alice's Adventures in Wonderland Lewis Carroll 52853 downloads\n",
            "The Complete Works of William Shakespeare William Shakespeare 51845 downloads\n",
            "Middlemarch George Eliot 50930 downloads\n",
            "A Room with a View E. M. Forster 50048 downloads\n",
            "Little Women; Or, Meg, Jo, Beth, and Amy Louisa May Alcott 47978 downloads\n",
            "A Doll's House : a play Henrik Ibsen 47436 downloads\n",
            "The Blue Castle: a novel L. M. Montgomery 43987 downloads\n",
            "The Enchanted April Elizabeth Von Arnim 43317 downloads\n",
            "The Adventures of Ferdinand Count Fathom — Complete T. Smollett 40560 downloads\n",
            "Cranford Elizabeth Cleghorn Gaskell 40317 downloads\n",
            "The Expedition of Humphry Clinker T. Smollett 39699 downloads\n",
            "History of Tom Jones, a Foundling Henry Fielding 39584 downloads\n",
            "The Great Gatsby F. Scott Fitzgerald 39561 downloads\n",
            "The Adventures of Roderick Random T. Smollett 39272 downloads\n",
            "My Life — Volume 1 Richard Wagner 38754 downloads\n",
            "Twenty years after Alexandre Dumas and Auguste Maquet 38457 downloads\n",
            "The Picture of Dorian Gray Oscar Wilde 37502 downloads\n",
            "A Christmas Carol in Prose; Being a Ghost Story of Christmas Charles Dickens 35811 downloads\n",
            "The Importance of Being Earnest: A Trivial Comedy for Serious People Oscar Wilde 35607 downloads\n"
          ]
        }
      ]
    },
    {
      "cell_type": "code",
      "source": [
        "!pip install gspread"
      ],
      "metadata": {
        "colab": {
          "base_uri": "https://localhost:8080/"
        },
        "id": "fax9pOO0EXOW",
        "outputId": "52f586af-803f-4f9d-dd86-995e86cda941"
      },
      "execution_count": null,
      "outputs": [
        {
          "output_type": "stream",
          "name": "stdout",
          "text": [
            "Requirement already satisfied: gspread in /usr/local/lib/python3.10/dist-packages (6.0.2)\n",
            "Requirement already satisfied: google-auth>=1.12.0 in /usr/local/lib/python3.10/dist-packages (from gspread) (2.27.0)\n",
            "Requirement already satisfied: google-auth-oauthlib>=0.4.1 in /usr/local/lib/python3.10/dist-packages (from gspread) (1.2.1)\n",
            "Requirement already satisfied: StrEnum==0.4.15 in /usr/local/lib/python3.10/dist-packages (from gspread) (0.4.15)\n",
            "Requirement already satisfied: cachetools<6.0,>=2.0.0 in /usr/local/lib/python3.10/dist-packages (from google-auth>=1.12.0->gspread) (5.5.0)\n",
            "Requirement already satisfied: pyasn1-modules>=0.2.1 in /usr/local/lib/python3.10/dist-packages (from google-auth>=1.12.0->gspread) (0.4.1)\n",
            "Requirement already satisfied: rsa<5,>=3.1.4 in /usr/local/lib/python3.10/dist-packages (from google-auth>=1.12.0->gspread) (4.9)\n",
            "Requirement already satisfied: requests-oauthlib>=0.7.0 in /usr/local/lib/python3.10/dist-packages (from google-auth-oauthlib>=0.4.1->gspread) (1.3.1)\n",
            "Requirement already satisfied: pyasn1<0.7.0,>=0.4.6 in /usr/local/lib/python3.10/dist-packages (from pyasn1-modules>=0.2.1->google-auth>=1.12.0->gspread) (0.6.1)\n",
            "Requirement already satisfied: oauthlib>=3.0.0 in /usr/local/lib/python3.10/dist-packages (from requests-oauthlib>=0.7.0->google-auth-oauthlib>=0.4.1->gspread) (3.2.2)\n",
            "Requirement already satisfied: requests>=2.0.0 in /usr/local/lib/python3.10/dist-packages (from requests-oauthlib>=0.7.0->google-auth-oauthlib>=0.4.1->gspread) (2.32.3)\n",
            "Requirement already satisfied: charset-normalizer<4,>=2 in /usr/local/lib/python3.10/dist-packages (from requests>=2.0.0->requests-oauthlib>=0.7.0->google-auth-oauthlib>=0.4.1->gspread) (3.4.0)\n",
            "Requirement already satisfied: idna<4,>=2.5 in /usr/local/lib/python3.10/dist-packages (from requests>=2.0.0->requests-oauthlib>=0.7.0->google-auth-oauthlib>=0.4.1->gspread) (3.10)\n",
            "Requirement already satisfied: urllib3<3,>=1.21.1 in /usr/local/lib/python3.10/dist-packages (from requests>=2.0.0->requests-oauthlib>=0.7.0->google-auth-oauthlib>=0.4.1->gspread) (2.2.3)\n",
            "Requirement already satisfied: certifi>=2017.4.17 in /usr/local/lib/python3.10/dist-packages (from requests>=2.0.0->requests-oauthlib>=0.7.0->google-auth-oauthlib>=0.4.1->gspread) (2024.8.30)\n"
          ]
        }
      ]
    },
    {
      "cell_type": "code",
      "source": [
        "from google.colab import auth\n",
        "auth.authenticate_user()"
      ],
      "metadata": {
        "id": "OeJ6afX9EfA5"
      },
      "execution_count": null,
      "outputs": []
    },
    {
      "cell_type": "code",
      "source": [
        "from google.auth import default"
      ],
      "metadata": {
        "id": "mba0gnhZFONl"
      },
      "execution_count": null,
      "outputs": []
    },
    {
      "cell_type": "code",
      "source": [
        "import gspread"
      ],
      "metadata": {
        "id": "C5v-U4MVFeMe"
      },
      "execution_count": null,
      "outputs": []
    },
    {
      "cell_type": "code",
      "source": [
        "creds, _ = default()"
      ],
      "metadata": {
        "id": "JEMr5Z0lEyLA"
      },
      "execution_count": null,
      "outputs": []
    },
    {
      "cell_type": "code",
      "source": [
        "gc = gspread.authorize(creds)"
      ],
      "metadata": {
        "id": "RC9H_BmbFS9f"
      },
      "execution_count": null,
      "outputs": []
    },
    {
      "cell_type": "code",
      "source": [
        "gs = gc.create('scraped_books')"
      ],
      "metadata": {
        "id": "df4ipomlFhoJ"
      },
      "execution_count": null,
      "outputs": []
    },
    {
      "cell_type": "code",
      "source": [
        "sh = gs.sheet1"
      ],
      "metadata": {
        "id": "64OFnWoHFvd5"
      },
      "execution_count": null,
      "outputs": []
    },
    {
      "cell_type": "code",
      "source": [
        "sh.append_row(['title', 'subtitle', 'extra'])"
      ],
      "metadata": {
        "colab": {
          "base_uri": "https://localhost:8080/"
        },
        "id": "-Ra1UVGtFyaO",
        "outputId": "5c653983-7ff6-4cf4-c374-ac7fbf44bdf3"
      },
      "execution_count": null,
      "outputs": [
        {
          "output_type": "execute_result",
          "data": {
            "text/plain": [
              "{'spreadsheetId': '1aIDo5X8DBZyHH9hS075A_4L5KOWJZmQiznFYZzJclV0',\n",
              " 'updates': {'spreadsheetId': '1aIDo5X8DBZyHH9hS075A_4L5KOWJZmQiznFYZzJclV0',\n",
              "  'updatedRange': 'Sheet1!A1:C1',\n",
              "  'updatedRows': 1,\n",
              "  'updatedColumns': 3,\n",
              "  'updatedCells': 3}}"
            ]
          },
          "metadata": {},
          "execution_count": 61
        }
      ]
    },
    {
      "cell_type": "code",
      "source": [
        "sh.append_row([title, subtitle, extra])"
      ],
      "metadata": {
        "id": "VmJsVovJq0PM"
      },
      "execution_count": null,
      "outputs": []
    },
    {
      "cell_type": "markdown",
      "source": [
        "Masih Development"
      ],
      "metadata": {
        "id": "dQ2-7ksqoC0S"
      }
    },
    {
      "cell_type": "code",
      "source": [
        "books = driver.find_elements(By.XPATH, '//li[@class=\"booklink\"]')"
      ],
      "metadata": {
        "colab": {
          "base_uri": "https://localhost:8080/",
          "height": 176
        },
        "id": "gJH2uxK-G8DD",
        "outputId": "a34d188b-11f8-4e33-e890-1976a6929a90"
      },
      "execution_count": null,
      "outputs": [
        {
          "output_type": "error",
          "ename": "AttributeError",
          "evalue": "'WebDriver' object has no attribute 'find_elements_by_class_name'",
          "traceback": [
            "\u001b[0;31m---------------------------------------------------------------------------\u001b[0m",
            "\u001b[0;31mAttributeError\u001b[0m                            Traceback (most recent call last)",
            "\u001b[0;32m<ipython-input-66-5f372af765c6>\u001b[0m in \u001b[0;36m<cell line: 1>\u001b[0;34m()\u001b[0m\n\u001b[0;32m----> 1\u001b[0;31m \u001b[0mstatusline\u001b[0m \u001b[0;34m=\u001b[0m \u001b[0mdriver\u001b[0m\u001b[0;34m.\u001b[0m\u001b[0mfind_elements_by_class_name\u001b[0m\u001b[0;34m(\u001b[0m\u001b[0;34m'statusline'\u001b[0m\u001b[0;34m)\u001b[0m\u001b[0;34m[\u001b[0m\u001b[0;36m0\u001b[0m\u001b[0;34m]\u001b[0m\u001b[0;34m\u001b[0m\u001b[0;34m\u001b[0m\u001b[0m\n\u001b[0m\u001b[1;32m      2\u001b[0m \u001b[0mnext_button\u001b[0m \u001b[0;34m=\u001b[0m \u001b[0mstatusline\u001b[0m\u001b[0;34m.\u001b[0m\u001b[0mfind_elements_by_tag_name\u001b[0m\u001b[0;34m(\u001b[0m\u001b[0;34m'a'\u001b[0m\u001b[0;34m)\u001b[0m\u001b[0;34m\u001b[0m\u001b[0;34m\u001b[0m\u001b[0m\n\u001b[1;32m      3\u001b[0m \u001b[0mnext_button\u001b[0m\u001b[0;34m\u001b[0m\u001b[0;34m\u001b[0m\u001b[0m\n",
            "\u001b[0;31mAttributeError\u001b[0m: 'WebDriver' object has no attribute 'find_elements_by_class_name'"
          ]
        }
      ]
    },
    {
      "cell_type": "code",
      "source": [
        "statusline = driver.find_elements(By.XPATH, '//li[@class=\"statusline\"]')[0]"
      ],
      "metadata": {
        "id": "0cz4-0dsIIw9"
      },
      "execution_count": null,
      "outputs": []
    },
    {
      "cell_type": "code",
      "source": [
        "next_button = driver.find_elements(By.XPATH, './/span[@class=\"links\"]/a')[0]\n"
      ],
      "metadata": {
        "id": "Tt4OrVP-YT_V"
      },
      "execution_count": null,
      "outputs": []
    },
    {
      "cell_type": "code",
      "source": [],
      "metadata": {
        "colab": {
          "base_uri": "https://localhost:8080/"
        },
        "id": "m7kpRf9AYkra",
        "outputId": "cf7d1f80-1880-4e43-fc6c-9eeea65d6d98"
      },
      "execution_count": null,
      "outputs": [
        {
          "output_type": "execute_result",
          "data": {
            "text/plain": [
              "<selenium.webdriver.remote.webelement.WebElement (session=\"e3613f651391d8b669d1b59240de693a\", element=\"f.D63372BAC5CFAEA369975F66D346E27C.d.057F399D46F7903B65F7080E7FD4C72C.e.116\")>"
            ]
          },
          "metadata": {},
          "execution_count": 84
        }
      ]
    },
    {
      "cell_type": "code",
      "source": [
        "print(next_button.text)"
      ],
      "metadata": {
        "colab": {
          "base_uri": "https://localhost:8080/"
        },
        "id": "tRYeUVBlHGCE",
        "outputId": "42956544-3e43-4e9b-f725-36c5190b411d"
      },
      "execution_count": null,
      "outputs": [
        {
          "output_type": "stream",
          "name": "stdout",
          "text": [
            "First\n"
          ]
        }
      ]
    },
    {
      "cell_type": "code",
      "source": [
        "next_button.click()"
      ],
      "metadata": {
        "id": "U7XWDObfIehs"
      },
      "execution_count": null,
      "outputs": []
    },
    {
      "cell_type": "code",
      "source": [
        "for container in books:\n",
        "  title = container.find_element(By.XPATH, './/span[@class=\"title\"]').text\n",
        "  subtitle = container.find_element(By.XPATH, './/span[@class=\"subtitle\"]').text\n",
        "  extra = container.find_element(By.XPATH, './/span[@class=\"extra\"]').text\n",
        "#  sh.append_row([title, subtitle, extra])"
      ],
      "metadata": {
        "id": "Trt356xQaVpm"
      },
      "execution_count": null,
      "outputs": []
    }
  ]
}